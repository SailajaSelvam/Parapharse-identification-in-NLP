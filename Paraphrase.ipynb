{
  "nbformat": 4,
  "nbformat_minor": 0,
  "metadata": {
    "colab": {
      "provenance": []
    },
    "kernelspec": {
      "name": "python3",
      "display_name": "Python 3"
    },
    "language_info": {
      "name": "python"
    }
  },
  "cells": [
    {
      "cell_type": "code",
      "execution_count": null,
      "metadata": {
        "colab": {
          "base_uri": "https://localhost:8080/"
        },
        "id": "dOxiQRu_v3hD",
        "outputId": "31c9d027-2d5e-4461-f322-7877cff7f67b"
      },
      "outputs": [
        {
          "output_type": "stream",
          "name": "stdout",
          "text": [
            "Requirement already satisfied: nltk in /usr/local/lib/python3.11/dist-packages (3.9.1)\n",
            "Collecting contractions\n",
            "  Downloading contractions-0.1.73-py2.py3-none-any.whl.metadata (1.2 kB)\n",
            "Collecting emoji\n",
            "  Downloading emoji-2.14.1-py3-none-any.whl.metadata (5.7 kB)\n",
            "Collecting pyspellchecker\n",
            "  Downloading pyspellchecker-0.8.2-py3-none-any.whl.metadata (9.4 kB)\n",
            "Requirement already satisfied: click in /usr/local/lib/python3.11/dist-packages (from nltk) (8.1.8)\n",
            "Requirement already satisfied: joblib in /usr/local/lib/python3.11/dist-packages (from nltk) (1.4.2)\n",
            "Requirement already satisfied: regex>=2021.8.3 in /usr/local/lib/python3.11/dist-packages (from nltk) (2024.11.6)\n",
            "Requirement already satisfied: tqdm in /usr/local/lib/python3.11/dist-packages (from nltk) (4.67.1)\n",
            "Collecting textsearch>=0.0.21 (from contractions)\n",
            "  Downloading textsearch-0.0.24-py2.py3-none-any.whl.metadata (1.2 kB)\n",
            "Collecting anyascii (from textsearch>=0.0.21->contractions)\n",
            "  Downloading anyascii-0.3.2-py3-none-any.whl.metadata (1.5 kB)\n",
            "Collecting pyahocorasick (from textsearch>=0.0.21->contractions)\n",
            "  Downloading pyahocorasick-2.1.0-cp311-cp311-manylinux_2_17_x86_64.manylinux2014_x86_64.whl.metadata (13 kB)\n",
            "Downloading contractions-0.1.73-py2.py3-none-any.whl (8.7 kB)\n",
            "Downloading emoji-2.14.1-py3-none-any.whl (590 kB)\n",
            "\u001b[2K   \u001b[90m━━━━━━━━━━━━━━━━━━━━━━━━━━━━━━━━━━━━━━━━\u001b[0m \u001b[32m590.6/590.6 kB\u001b[0m \u001b[31m9.7 MB/s\u001b[0m eta \u001b[36m0:00:00\u001b[0m\n",
            "\u001b[?25hDownloading pyspellchecker-0.8.2-py3-none-any.whl (7.1 MB)\n",
            "\u001b[2K   \u001b[90m━━━━━━━━━━━━━━━━━━━━━━━━━━━━━━━━━━━━━━━━\u001b[0m \u001b[32m7.1/7.1 MB\u001b[0m \u001b[31m26.1 MB/s\u001b[0m eta \u001b[36m0:00:00\u001b[0m\n",
            "\u001b[?25hDownloading textsearch-0.0.24-py2.py3-none-any.whl (7.6 kB)\n",
            "Downloading anyascii-0.3.2-py3-none-any.whl (289 kB)\n",
            "\u001b[2K   \u001b[90m━━━━━━━━━━━━━━━━━━━━━━━━━━━━━━━━━━━━━━━━\u001b[0m \u001b[32m289.9/289.9 kB\u001b[0m \u001b[31m19.4 MB/s\u001b[0m eta \u001b[36m0:00:00\u001b[0m\n",
            "\u001b[?25hDownloading pyahocorasick-2.1.0-cp311-cp311-manylinux_2_17_x86_64.manylinux2014_x86_64.whl (118 kB)\n",
            "\u001b[2K   \u001b[90m━━━━━━━━━━━━━━━━━━━━━━━━━━━━━━━━━━━━━━━━\u001b[0m \u001b[32m118.3/118.3 kB\u001b[0m \u001b[31m6.1 MB/s\u001b[0m eta \u001b[36m0:00:00\u001b[0m\n",
            "\u001b[?25hInstalling collected packages: pyspellchecker, pyahocorasick, emoji, anyascii, textsearch, contractions\n",
            "Successfully installed anyascii-0.3.2 contractions-0.1.73 emoji-2.14.1 pyahocorasick-2.1.0 pyspellchecker-0.8.2 textsearch-0.0.24\n"
          ]
        }
      ],
      "source": [
        "!pip install nltk contractions emoji pyspellchecker\n"
      ]
    },
    {
      "cell_type": "code",
      "source": [
        "import pandas as pd\n",
        "import numpy as np\n",
        "import re\n",
        "import nltk\n",
        "from nltk.corpus import stopwords\n",
        "from nltk.tokenize import word_tokenize\n",
        "from nltk.stem import WordNetLemmatizer, PorterStemmer\n",
        "import string\n",
        "from bs4 import BeautifulSoup\n",
        "import contractions\n",
        "import emoji\n",
        "from spellchecker import SpellChecker\n",
        "\n",
        "from sklearn.model_selection import train_test_split\n",
        "from sklearn.linear_model import LogisticRegression\n",
        "from sklearn.metrics import (\n",
        "    accuracy_score,\n",
        "    precision_score,\n",
        "    recall_score,\n",
        "    f1_score,\n",
        "    classification_report,\n",
        "    confusion_matrix\n",
        ")\n",
        "\n",
        "from sklearn.feature_extraction.text import CountVectorizer\n",
        "\n",
        "import seaborn as sns\n",
        "import matplotlib.pyplot as plt"
      ],
      "metadata": {
        "id": "xC0ARBOgv8nE"
      },
      "execution_count": null,
      "outputs": []
    },
    {
      "cell_type": "code",
      "source": [
        "df = pd.read_csv(\"/content/labeled_final_test.csv\")\n",
        "df.head(10)"
      ],
      "metadata": {
        "colab": {
          "base_uri": "https://localhost:8080/",
          "height": 363
        },
        "id": "-QNjykHyBwFU",
        "outputId": "3cc4b253-5f06-45c1-ab76-7b5689d88391"
      },
      "execution_count": null,
      "outputs": [
        {
          "output_type": "execute_result",
          "data": {
            "text/plain": [
              "   id                                          sentence1  \\\n",
              "0   1  This was a series of nested angular standards ...   \n",
              "1   2  His father emigrated to Missouri in 1868 but r...   \n",
              "2   3  In January 2011 , the Deputy Secretary General...   \n",
              "3   4  Steiner argued that , in the right circumstanc...   \n",
              "4   5  Luciano Williames Dias ( born July 25 , 1970 )...   \n",
              "5   6  During her sophomore , junior and senior summe...   \n",
              "6   7  The smallest number that can be represented in...   \n",
              "7   8  His father emigrated to Missouri in 1868 , but...   \n",
              "8   9  The Villa Pesquera facilities are owned by the...   \n",
              "9  10  It is situated south of Köroğlu Mountains and ...   \n",
              "\n",
              "                                           sentence2  label  \n",
              "0  This was a series of nested polar scales , so ...      0  \n",
              "1  His father emigrated to America in 1868 , but ...      0  \n",
              "2  In January 2011 , FIBA Asia deputy secretary g...      1  \n",
              "3  Steiner held that the spiritual world can be r...      0  \n",
              "4  Luciano Williames Dias ( born 25 July 1970 ) i...      0  \n",
              "5  During her second , junior and senior summers ...      1  \n",
              "6  The smallest number that can be represented as...      0  \n",
              "7  His father emigrated to Missouri in 1868 but r...      1  \n",
              "8  The facilities of Villa Pesquera are operated ...      0  \n",
              "9  It is situated south of Köroğlu - mountains an...      1  "
            ],
            "text/html": [
              "\n",
              "  <div id=\"df-b96901db-c85d-43ff-a104-d99e62de02ea\" class=\"colab-df-container\">\n",
              "    <div>\n",
              "<style scoped>\n",
              "    .dataframe tbody tr th:only-of-type {\n",
              "        vertical-align: middle;\n",
              "    }\n",
              "\n",
              "    .dataframe tbody tr th {\n",
              "        vertical-align: top;\n",
              "    }\n",
              "\n",
              "    .dataframe thead th {\n",
              "        text-align: right;\n",
              "    }\n",
              "</style>\n",
              "<table border=\"1\" class=\"dataframe\">\n",
              "  <thead>\n",
              "    <tr style=\"text-align: right;\">\n",
              "      <th></th>\n",
              "      <th>id</th>\n",
              "      <th>sentence1</th>\n",
              "      <th>sentence2</th>\n",
              "      <th>label</th>\n",
              "    </tr>\n",
              "  </thead>\n",
              "  <tbody>\n",
              "    <tr>\n",
              "      <th>0</th>\n",
              "      <td>1</td>\n",
              "      <td>This was a series of nested angular standards ...</td>\n",
              "      <td>This was a series of nested polar scales , so ...</td>\n",
              "      <td>0</td>\n",
              "    </tr>\n",
              "    <tr>\n",
              "      <th>1</th>\n",
              "      <td>2</td>\n",
              "      <td>His father emigrated to Missouri in 1868 but r...</td>\n",
              "      <td>His father emigrated to America in 1868 , but ...</td>\n",
              "      <td>0</td>\n",
              "    </tr>\n",
              "    <tr>\n",
              "      <th>2</th>\n",
              "      <td>3</td>\n",
              "      <td>In January 2011 , the Deputy Secretary General...</td>\n",
              "      <td>In January 2011 , FIBA Asia deputy secretary g...</td>\n",
              "      <td>1</td>\n",
              "    </tr>\n",
              "    <tr>\n",
              "      <th>3</th>\n",
              "      <td>4</td>\n",
              "      <td>Steiner argued that , in the right circumstanc...</td>\n",
              "      <td>Steiner held that the spiritual world can be r...</td>\n",
              "      <td>0</td>\n",
              "    </tr>\n",
              "    <tr>\n",
              "      <th>4</th>\n",
              "      <td>5</td>\n",
              "      <td>Luciano Williames Dias ( born July 25 , 1970 )...</td>\n",
              "      <td>Luciano Williames Dias ( born 25 July 1970 ) i...</td>\n",
              "      <td>0</td>\n",
              "    </tr>\n",
              "    <tr>\n",
              "      <th>5</th>\n",
              "      <td>6</td>\n",
              "      <td>During her sophomore , junior and senior summe...</td>\n",
              "      <td>During her second , junior and senior summers ...</td>\n",
              "      <td>1</td>\n",
              "    </tr>\n",
              "    <tr>\n",
              "      <th>6</th>\n",
              "      <td>7</td>\n",
              "      <td>The smallest number that can be represented in...</td>\n",
              "      <td>The smallest number that can be represented as...</td>\n",
              "      <td>0</td>\n",
              "    </tr>\n",
              "    <tr>\n",
              "      <th>7</th>\n",
              "      <td>8</td>\n",
              "      <td>His father emigrated to Missouri in 1868 , but...</td>\n",
              "      <td>His father emigrated to Missouri in 1868 but r...</td>\n",
              "      <td>1</td>\n",
              "    </tr>\n",
              "    <tr>\n",
              "      <th>8</th>\n",
              "      <td>9</td>\n",
              "      <td>The Villa Pesquera facilities are owned by the...</td>\n",
              "      <td>The facilities of Villa Pesquera are operated ...</td>\n",
              "      <td>0</td>\n",
              "    </tr>\n",
              "    <tr>\n",
              "      <th>9</th>\n",
              "      <td>10</td>\n",
              "      <td>It is situated south of Köroğlu Mountains and ...</td>\n",
              "      <td>It is situated south of Köroğlu - mountains an...</td>\n",
              "      <td>1</td>\n",
              "    </tr>\n",
              "  </tbody>\n",
              "</table>\n",
              "</div>\n",
              "    <div class=\"colab-df-buttons\">\n",
              "\n",
              "  <div class=\"colab-df-container\">\n",
              "    <button class=\"colab-df-convert\" onclick=\"convertToInteractive('df-b96901db-c85d-43ff-a104-d99e62de02ea')\"\n",
              "            title=\"Convert this dataframe to an interactive table.\"\n",
              "            style=\"display:none;\">\n",
              "\n",
              "  <svg xmlns=\"http://www.w3.org/2000/svg\" height=\"24px\" viewBox=\"0 -960 960 960\">\n",
              "    <path d=\"M120-120v-720h720v720H120Zm60-500h600v-160H180v160Zm220 220h160v-160H400v160Zm0 220h160v-160H400v160ZM180-400h160v-160H180v160Zm440 0h160v-160H620v160ZM180-180h160v-160H180v160Zm440 0h160v-160H620v160Z\"/>\n",
              "  </svg>\n",
              "    </button>\n",
              "\n",
              "  <style>\n",
              "    .colab-df-container {\n",
              "      display:flex;\n",
              "      gap: 12px;\n",
              "    }\n",
              "\n",
              "    .colab-df-convert {\n",
              "      background-color: #E8F0FE;\n",
              "      border: none;\n",
              "      border-radius: 50%;\n",
              "      cursor: pointer;\n",
              "      display: none;\n",
              "      fill: #1967D2;\n",
              "      height: 32px;\n",
              "      padding: 0 0 0 0;\n",
              "      width: 32px;\n",
              "    }\n",
              "\n",
              "    .colab-df-convert:hover {\n",
              "      background-color: #E2EBFA;\n",
              "      box-shadow: 0px 1px 2px rgba(60, 64, 67, 0.3), 0px 1px 3px 1px rgba(60, 64, 67, 0.15);\n",
              "      fill: #174EA6;\n",
              "    }\n",
              "\n",
              "    .colab-df-buttons div {\n",
              "      margin-bottom: 4px;\n",
              "    }\n",
              "\n",
              "    [theme=dark] .colab-df-convert {\n",
              "      background-color: #3B4455;\n",
              "      fill: #D2E3FC;\n",
              "    }\n",
              "\n",
              "    [theme=dark] .colab-df-convert:hover {\n",
              "      background-color: #434B5C;\n",
              "      box-shadow: 0px 1px 3px 1px rgba(0, 0, 0, 0.15);\n",
              "      filter: drop-shadow(0px 1px 2px rgba(0, 0, 0, 0.3));\n",
              "      fill: #FFFFFF;\n",
              "    }\n",
              "  </style>\n",
              "\n",
              "    <script>\n",
              "      const buttonEl =\n",
              "        document.querySelector('#df-b96901db-c85d-43ff-a104-d99e62de02ea button.colab-df-convert');\n",
              "      buttonEl.style.display =\n",
              "        google.colab.kernel.accessAllowed ? 'block' : 'none';\n",
              "\n",
              "      async function convertToInteractive(key) {\n",
              "        const element = document.querySelector('#df-b96901db-c85d-43ff-a104-d99e62de02ea');\n",
              "        const dataTable =\n",
              "          await google.colab.kernel.invokeFunction('convertToInteractive',\n",
              "                                                    [key], {});\n",
              "        if (!dataTable) return;\n",
              "\n",
              "        const docLinkHtml = 'Like what you see? Visit the ' +\n",
              "          '<a target=\"_blank\" href=https://colab.research.google.com/notebooks/data_table.ipynb>data table notebook</a>'\n",
              "          + ' to learn more about interactive tables.';\n",
              "        element.innerHTML = '';\n",
              "        dataTable['output_type'] = 'display_data';\n",
              "        await google.colab.output.renderOutput(dataTable, element);\n",
              "        const docLink = document.createElement('div');\n",
              "        docLink.innerHTML = docLinkHtml;\n",
              "        element.appendChild(docLink);\n",
              "      }\n",
              "    </script>\n",
              "  </div>\n",
              "\n",
              "\n",
              "    <div id=\"df-5a9ea14c-979d-4266-9ab0-5a43d47d6b3d\">\n",
              "      <button class=\"colab-df-quickchart\" onclick=\"quickchart('df-5a9ea14c-979d-4266-9ab0-5a43d47d6b3d')\"\n",
              "                title=\"Suggest charts\"\n",
              "                style=\"display:none;\">\n",
              "\n",
              "<svg xmlns=\"http://www.w3.org/2000/svg\" height=\"24px\"viewBox=\"0 0 24 24\"\n",
              "     width=\"24px\">\n",
              "    <g>\n",
              "        <path d=\"M19 3H5c-1.1 0-2 .9-2 2v14c0 1.1.9 2 2 2h14c1.1 0 2-.9 2-2V5c0-1.1-.9-2-2-2zM9 17H7v-7h2v7zm4 0h-2V7h2v10zm4 0h-2v-4h2v4z\"/>\n",
              "    </g>\n",
              "</svg>\n",
              "      </button>\n",
              "\n",
              "<style>\n",
              "  .colab-df-quickchart {\n",
              "      --bg-color: #E8F0FE;\n",
              "      --fill-color: #1967D2;\n",
              "      --hover-bg-color: #E2EBFA;\n",
              "      --hover-fill-color: #174EA6;\n",
              "      --disabled-fill-color: #AAA;\n",
              "      --disabled-bg-color: #DDD;\n",
              "  }\n",
              "\n",
              "  [theme=dark] .colab-df-quickchart {\n",
              "      --bg-color: #3B4455;\n",
              "      --fill-color: #D2E3FC;\n",
              "      --hover-bg-color: #434B5C;\n",
              "      --hover-fill-color: #FFFFFF;\n",
              "      --disabled-bg-color: #3B4455;\n",
              "      --disabled-fill-color: #666;\n",
              "  }\n",
              "\n",
              "  .colab-df-quickchart {\n",
              "    background-color: var(--bg-color);\n",
              "    border: none;\n",
              "    border-radius: 50%;\n",
              "    cursor: pointer;\n",
              "    display: none;\n",
              "    fill: var(--fill-color);\n",
              "    height: 32px;\n",
              "    padding: 0;\n",
              "    width: 32px;\n",
              "  }\n",
              "\n",
              "  .colab-df-quickchart:hover {\n",
              "    background-color: var(--hover-bg-color);\n",
              "    box-shadow: 0 1px 2px rgba(60, 64, 67, 0.3), 0 1px 3px 1px rgba(60, 64, 67, 0.15);\n",
              "    fill: var(--button-hover-fill-color);\n",
              "  }\n",
              "\n",
              "  .colab-df-quickchart-complete:disabled,\n",
              "  .colab-df-quickchart-complete:disabled:hover {\n",
              "    background-color: var(--disabled-bg-color);\n",
              "    fill: var(--disabled-fill-color);\n",
              "    box-shadow: none;\n",
              "  }\n",
              "\n",
              "  .colab-df-spinner {\n",
              "    border: 2px solid var(--fill-color);\n",
              "    border-color: transparent;\n",
              "    border-bottom-color: var(--fill-color);\n",
              "    animation:\n",
              "      spin 1s steps(1) infinite;\n",
              "  }\n",
              "\n",
              "  @keyframes spin {\n",
              "    0% {\n",
              "      border-color: transparent;\n",
              "      border-bottom-color: var(--fill-color);\n",
              "      border-left-color: var(--fill-color);\n",
              "    }\n",
              "    20% {\n",
              "      border-color: transparent;\n",
              "      border-left-color: var(--fill-color);\n",
              "      border-top-color: var(--fill-color);\n",
              "    }\n",
              "    30% {\n",
              "      border-color: transparent;\n",
              "      border-left-color: var(--fill-color);\n",
              "      border-top-color: var(--fill-color);\n",
              "      border-right-color: var(--fill-color);\n",
              "    }\n",
              "    40% {\n",
              "      border-color: transparent;\n",
              "      border-right-color: var(--fill-color);\n",
              "      border-top-color: var(--fill-color);\n",
              "    }\n",
              "    60% {\n",
              "      border-color: transparent;\n",
              "      border-right-color: var(--fill-color);\n",
              "    }\n",
              "    80% {\n",
              "      border-color: transparent;\n",
              "      border-right-color: var(--fill-color);\n",
              "      border-bottom-color: var(--fill-color);\n",
              "    }\n",
              "    90% {\n",
              "      border-color: transparent;\n",
              "      border-bottom-color: var(--fill-color);\n",
              "    }\n",
              "  }\n",
              "</style>\n",
              "\n",
              "      <script>\n",
              "        async function quickchart(key) {\n",
              "          const quickchartButtonEl =\n",
              "            document.querySelector('#' + key + ' button');\n",
              "          quickchartButtonEl.disabled = true;  // To prevent multiple clicks.\n",
              "          quickchartButtonEl.classList.add('colab-df-spinner');\n",
              "          try {\n",
              "            const charts = await google.colab.kernel.invokeFunction(\n",
              "                'suggestCharts', [key], {});\n",
              "          } catch (error) {\n",
              "            console.error('Error during call to suggestCharts:', error);\n",
              "          }\n",
              "          quickchartButtonEl.classList.remove('colab-df-spinner');\n",
              "          quickchartButtonEl.classList.add('colab-df-quickchart-complete');\n",
              "        }\n",
              "        (() => {\n",
              "          let quickchartButtonEl =\n",
              "            document.querySelector('#df-5a9ea14c-979d-4266-9ab0-5a43d47d6b3d button');\n",
              "          quickchartButtonEl.style.display =\n",
              "            google.colab.kernel.accessAllowed ? 'block' : 'none';\n",
              "        })();\n",
              "      </script>\n",
              "    </div>\n",
              "\n",
              "    </div>\n",
              "  </div>\n"
            ],
            "application/vnd.google.colaboratory.intrinsic+json": {
              "type": "dataframe",
              "variable_name": "df",
              "summary": "{\n  \"name\": \"df\",\n  \"rows\": 8000,\n  \"fields\": [\n    {\n      \"column\": \"id\",\n      \"properties\": {\n        \"dtype\": \"number\",\n        \"std\": 2309,\n        \"min\": 1,\n        \"max\": 8000,\n        \"num_unique_values\": 8000,\n        \"samples\": [\n          2216,\n          2583,\n          1663\n        ],\n        \"semantic_type\": \"\",\n        \"description\": \"\"\n      }\n    },\n    {\n      \"column\": \"sentence1\",\n      \"properties\": {\n        \"dtype\": \"string\",\n        \"num_unique_values\": 4948,\n        \"samples\": [\n          \"17.1 % were German , 12.4 % Finnish , 10.5 % Norwegian , 9.4 % Italian , 6.4 % Irish and 5.9 % of Swedish descent .\",\n          \"Rices Landing is home to Pumpkin Run Park , which is owned and maintained by the municipality .\",\n          \"In 2000 she was elected the first Canadian President of the Modern Language Association , the 117th Canadian to hold this position , and the third woman .\"\n        ],\n        \"semantic_type\": \"\",\n        \"description\": \"\"\n      }\n    },\n    {\n      \"column\": \"sentence2\",\n      \"properties\": {\n        \"dtype\": \"string\",\n        \"num_unique_values\": 4938,\n        \"samples\": [\n          \"The Baldwins lived in Washington , D.C. Helen Baldwin died in 1977 and Robert Baldwin died March 14 , 1998 , from Lou Gehrig 's disease .\",\n          \"All observed commemorations below are fixed on January 27 , by Orthodox Churches on the Old Calendar .\",\n          \"In 2002 , the Global Exchange was awarded the Domestic Human Rights Award by CRLA and the international NGO based in San Francisco .\"\n        ],\n        \"semantic_type\": \"\",\n        \"description\": \"\"\n      }\n    },\n    {\n      \"column\": \"label\",\n      \"properties\": {\n        \"dtype\": \"number\",\n        \"std\": 0,\n        \"min\": 0,\n        \"max\": 1,\n        \"num_unique_values\": 2,\n        \"samples\": [\n          1,\n          0\n        ],\n        \"semantic_type\": \"\",\n        \"description\": \"\"\n      }\n    }\n  ]\n}"
            }
          },
          "metadata": {},
          "execution_count": 4
        }
      ]
    },
    {
      "cell_type": "code",
      "source": [
        "# Download NLTK data (only needs to run once)\n",
        "nltk.download('punkt')\n",
        "nltk.download('stopwords')\n",
        "nltk.download('wordnet')\n",
        "stop_words = set(stopwords.words('english'))\n",
        "\n",
        "stemmer = PorterStemmer()\n",
        "lemmatizer = WordNetLemmatizer()\n",
        "spell = SpellChecker()\n"
      ],
      "metadata": {
        "colab": {
          "base_uri": "https://localhost:8080/"
        },
        "id": "QL0DxRKsRLSk",
        "outputId": "3f05432a-993f-4518-e4f1-325eeff062ec"
      },
      "execution_count": null,
      "outputs": [
        {
          "output_type": "stream",
          "name": "stderr",
          "text": [
            "[nltk_data] Downloading package punkt to /root/nltk_data...\n",
            "[nltk_data]   Package punkt is already up-to-date!\n",
            "[nltk_data] Downloading package stopwords to /root/nltk_data...\n",
            "[nltk_data]   Package stopwords is already up-to-date!\n",
            "[nltk_data] Downloading package wordnet to /root/nltk_data...\n",
            "[nltk_data]   Package wordnet is already up-to-date!\n"
          ]
        }
      ]
    },
    {
      "cell_type": "code",
      "source": [
        "def preprocess_text(text):\n",
        "    text = text.lower()  # Convert to lowercase\n",
        "    text = re.sub(r'\\W', ' ', text)  # Remove special characters\n",
        "    words = text.split()\n",
        "\n",
        "    # Initialize lemmatizer and stemmer\n",
        "    lemmatizer = WordNetLemmatizer()\n",
        "    stemmer = PorterStemmer()\n",
        "\n",
        "    # Remove stopwords, apply lemmatization and stemming\n",
        "    processed_words = [stemmer.stem(lemmatizer.lemmatize(word)) for word in words if word not in stopwords.words('english')]\n",
        "\n",
        "    return ' '.join(processed_words)"
      ],
      "metadata": {
        "id": "ZAEju21Z3Puo"
      },
      "execution_count": null,
      "outputs": []
    },
    {
      "cell_type": "code",
      "source": [
        "# Clean both sentences before splitting\n",
        "df['sentence1'] = df['sentence1'].apply(preprocess_text)\n",
        "df['sentence2'] = df['sentence2'].apply(preprocess_text)"
      ],
      "metadata": {
        "id": "2fjcqOZewK5k"
      },
      "execution_count": null,
      "outputs": []
    },
    {
      "cell_type": "code",
      "source": [
        "import spacy\n",
        "\n",
        "# Load spaCy English model\n",
        "import en_core_web_sm\n",
        "nlp = en_core_web_sm.load()"
      ],
      "metadata": {
        "id": "TV_rvx5s7tZU"
      },
      "execution_count": null,
      "outputs": []
    },
    {
      "cell_type": "code",
      "source": [
        "def tag_text_with_ner_pos(text):\n",
        "    doc = nlp(text)\n",
        "    tagged_tokens = []\n",
        "    for token in doc:\n",
        "        word = token.text.lower()\n",
        "        pos = token.pos_  # e.g., NOUN, VERB\n",
        "        ner = token.ent_type_ if token.ent_type_ else \"O\"  # e.g., PERSON, ORG, etc., or O = no entity\n",
        "        tagged_token = f\"{ner}_{pos}_{word}\"\n",
        "        tagged_tokens.append(tagged_token)\n",
        "    return \" \".join(tagged_tokens)"
      ],
      "metadata": {
        "id": "BFZ59agf2kMR"
      },
      "execution_count": null,
      "outputs": []
    },
    {
      "cell_type": "code",
      "source": [
        "# Clean both sentences before splitting\n",
        "df['sentence1'] = df['sentence1'].apply(tag_text_with_ner_pos)\n",
        "df['sentence2'] = df['sentence2'].apply(tag_text_with_ner_pos)"
      ],
      "metadata": {
        "id": "5RZy2KRQ6Dr2"
      },
      "execution_count": null,
      "outputs": []
    },
    {
      "cell_type": "code",
      "source": [
        "def extract_pos_tags(text):\n",
        "    doc = nlp(text)\n",
        "    return [(token.text, token.pos_) for token in doc]\n",
        "\n",
        "# Function to get Named Entities\n",
        "def extract_named_entities(text):\n",
        "    doc = nlp(text)\n",
        "    return [(ent.text, ent.label_) for ent in doc.ents]\n"
      ],
      "metadata": {
        "id": "-kNdSe-c7F4V"
      },
      "execution_count": null,
      "outputs": []
    },
    {
      "cell_type": "code",
      "source": [
        "# Assuming 'df' still has original sentence text\n",
        "\n",
        "# Extract Named Entities separately\n",
        "df['sentence1_entities'] = df['sentence1'].apply(extract_named_entities)\n",
        "df['sentence2_entities'] = df['sentence2'].apply(extract_named_entities)\n",
        "\n",
        "# (Optional) Also POS tags if needed\n",
        "df['sentence1_pos'] = df['sentence1'].apply(extract_pos_tags)\n",
        "df['sentence2_pos'] = df['sentence2'].apply(extract_pos_tags)\n"
      ],
      "metadata": {
        "id": "Up_Tko4BhBTw"
      },
      "execution_count": null,
      "outputs": []
    },
    {
      "cell_type": "code",
      "source": [
        "df.info()"
      ],
      "metadata": {
        "colab": {
          "base_uri": "https://localhost:8080/"
        },
        "id": "DwLmCXoHHfUM",
        "outputId": "0e549355-ce65-4bac-b378-1f6480b7c6dc"
      },
      "execution_count": null,
      "outputs": [
        {
          "output_type": "stream",
          "name": "stdout",
          "text": [
            "<class 'pandas.core.frame.DataFrame'>\n",
            "RangeIndex: 8000 entries, 0 to 7999\n",
            "Data columns (total 8 columns):\n",
            " #   Column              Non-Null Count  Dtype \n",
            "---  ------              --------------  ----- \n",
            " 0   id                  8000 non-null   int64 \n",
            " 1   sentence1           8000 non-null   object\n",
            " 2   sentence2           8000 non-null   object\n",
            " 3   label               8000 non-null   int64 \n",
            " 4   sentence1_entities  8000 non-null   object\n",
            " 5   sentence2_entities  8000 non-null   object\n",
            " 6   sentence1_pos       8000 non-null   object\n",
            " 7   sentence2_pos       8000 non-null   object\n",
            "dtypes: int64(2), object(6)\n",
            "memory usage: 500.1+ KB\n"
          ]
        }
      ]
    },
    {
      "cell_type": "code",
      "source": [
        "from sklearn.feature_extraction.text import TfidfVectorizer\n",
        "import numpy as np\n",
        "\n",
        "# Create the TfidfVectorizer\n",
        "tfidf = TfidfVectorizer(max_features=5000)\n",
        "\n",
        "# Fit and transform the sentences into TF-IDF matrices\n",
        "sentence1_list = df['sentence1'].astype(str).tolist()\n",
        "sentence2_list = df['sentence2'].astype(str).tolist()\n",
        "\n",
        "X1 = tfidf.fit_transform(sentence1_list)  # Fit and transform sentence1\n",
        "X2 = tfidf.transform(sentence2_list)      # Transform sentence2 using the same vectorizer\n",
        "\n",
        "# Convert sparse matrices to dense numpy arrays for concatenation\n",
        "X1_dense = X1.toarray()  # Convert X1 to a dense array\n",
        "X2_dense = X2.toarray()  # Convert X2 to a dense array\n",
        "\n",
        "# Concatenate X1 and X2 along axis=1 (columns)\n",
        "X = np.concatenate((X1_dense, X2_dense), axis=1)\n",
        "\n",
        "# Labels\n",
        "y = df['label']\n",
        "\n",
        "# Now X and y are ready for training\n"
      ],
      "metadata": {
        "id": "C3aqKhb6_lEp"
      },
      "execution_count": null,
      "outputs": []
    },
    {
      "cell_type": "code",
      "source": [
        "from sklearn.model_selection import train_test_split\n",
        "\n",
        "X_train, X_test, y_train, y_test = train_test_split(X, y, test_size=0.3, random_state=42)\n"
      ],
      "metadata": {
        "id": "kPOM6FUTwQ-a"
      },
      "execution_count": null,
      "outputs": []
    },
    {
      "cell_type": "code",
      "source": [
        "from sklearn.linear_model import LogisticRegression\n",
        "from sklearn.metrics import classification_report, confusion_matrix\n",
        "import seaborn as sns\n",
        "import matplotlib.pyplot as plt\n",
        "\n",
        "model = LogisticRegression()\n",
        "model.fit(X_train, y_train)\n",
        "\n",
        "y_pred = model.predict(X_test)\n",
        "\n",
        "print(\"Classification Report:\\n\", classification_report(y_test, y_pred))\n",
        "\n",
        "# Confusion Matrix\n",
        "cm = confusion_matrix(y_test, y_pred)\n",
        "sns.heatmap(cm, annot=True, fmt=\"d\",cmap=\"Blues\", xticklabels=[\"Negative\", \"Positive\"], yticklabels=[\"Negative\", \"Positive\"])\n",
        "plt.xlabel(\"Predicted\")\n",
        "plt.ylabel(\"Actual\")\n",
        "plt.title(\"Confusion Matrix\")\n",
        "plt.show()\n"
      ],
      "metadata": {
        "id": "xXVlNqYbwVOS",
        "colab": {
          "base_uri": "https://localhost:8080/",
          "height": 646
        },
        "outputId": "c0dcb483-e393-4323-9cc5-0c75d50fad00"
      },
      "execution_count": null,
      "outputs": [
        {
          "output_type": "stream",
          "name": "stdout",
          "text": [
            "Classification Report:\n",
            "               precision    recall  f1-score   support\n",
            "\n",
            "           0       0.53      0.68      0.60      1331\n",
            "           1       0.39      0.26      0.31      1069\n",
            "\n",
            "    accuracy                           0.49      2400\n",
            "   macro avg       0.46      0.47      0.45      2400\n",
            "weighted avg       0.47      0.49      0.47      2400\n",
            "\n"
          ]
        },
        {
          "output_type": "display_data",
          "data": {
            "text/plain": [
              "<Figure size 640x480 with 2 Axes>"
            ],
            "image/png": "[encoded data removed]"
          },
          "metadata": {}
        }
      ]
    },
    {
      "cell_type": "code",
      "source": [
        "from sklearn.model_selection import GridSearchCV\n",
        "\n",
        "param_grid = {\n",
        "    'C': [0.1, 1, 10],\n",
        "    'solver': ['liblinear', 'lbfgs'],\n",
        "    'class_weight': [None, 'balanced']\n",
        "}\n",
        "\n",
        "grid = GridSearchCV(LogisticRegression(random_state=42), param_grid, cv=5, scoring='f1_macro')\n",
        "grid.fit(X_train, y_train)\n",
        "\n",
        "print(\"Best Parameters:\", grid.best_params_)\n",
        "best_model = grid.best_estimator_\n",
        "\n",
        "y_pred = best_model.predict(X_test)\n",
        "print(classification_report(y_test, y_pred))\n"
      ],
      "metadata": {
        "colab": {
          "base_uri": "https://localhost:8080/"
        },
        "id": "Eq5HfNTlncWy",
        "outputId": "2c90a435-a37f-461d-d855-fb8d2043cf01"
      },
      "execution_count": null,
      "outputs": [
        {
          "output_type": "stream",
          "name": "stdout",
          "text": [
            "Best Parameters: {'C': 0.1, 'class_weight': None, 'solver': 'liblinear'}\n",
            "              precision    recall  f1-score   support\n",
            "\n",
            "           0       0.58      0.96      0.73      1331\n",
            "           1       0.75      0.14      0.24      1069\n",
            "\n",
            "    accuracy                           0.60      2400\n",
            "   macro avg       0.67      0.55      0.48      2400\n",
            "weighted avg       0.66      0.60      0.51      2400\n",
            "\n"
          ]
        }
      ]
    },
    {
      "cell_type": "code",
      "source": [
        "import joblib\n",
        "\n",
        "# Save the trained model\n",
        "joblib.dump(best_model, 'model.pkl')\n",
        "\n",
        "# Save the TF-IDF vectorizer\n",
        "joblib.dump(tfidf, 'tfidf_vectorizer.pkl')\n"
      ],
      "metadata": {
        "colab": {
          "base_uri": "https://localhost:8080/"
        },
        "id": "BvYgaxVDBnmZ",
        "outputId": "92438ef6-ffe3-40ad-b091-f258d5086fdb"
      },
      "execution_count": null,
      "outputs": [
        {
          "output_type": "execute_result",
          "data": {
            "text/plain": [
              "['tfidf_vectorizer.pkl']"
            ]
          },
          "metadata": {},
          "execution_count": 19
        }
      ]
    },
    {
      "cell_type": "code",
      "source": [
        " # Load your trained model and vectorizer\n",
        "import joblib\n",
        "model = joblib.load(\"/content/model.pkl\")\n",
        "vectorizer = joblib.load(\"/content/tfidf_vectorizer.pkl\")\n",
        "\n",
        "sentence1 = \"She finished her homework before dinner.\"\n",
        "sentence2 = \"Rabit is eating snacks.\"\n",
        "\n",
        "# Preprocess if needed (e.g., lowercase, remove punctuation, etc.)\n",
        "def preprocess(text):\n",
        "    return text.lower()\n",
        "\n",
        "s1 = preprocess(sentence1)\n",
        "s2 = preprocess(sentence2)\n",
        "\n",
        "# Transform using the fitted TF-IDF vectorizer\n",
        "v1 = vectorizer.transform([s1])\n",
        "v2 = vectorizer.transform([s2])\n",
        "\n",
        "# Combine vectors (e.g., concatenate)\n",
        "X_test_pair = np.hstack((v1.toarray(), v2.toarray()))\n",
        "\n",
        "# Predict\n",
        "prediction = model.predict(X_test_pair)[0]\n",
        "\n",
        "if prediction == 1:\n",
        "    print(\" Paraphrase Detected\")\n",
        "else:\n",
        "    print(\" Not a Paraphrase\")\n"
      ],
      "metadata": {
        "colab": {
          "base_uri": "https://localhost:8080/"
        },
        "id": "ou2Xwlwm52P9",
        "outputId": "fbecb174-245f-46c4-ea16-485f153b33f5"
      },
      "execution_count": null,
      "outputs": [
        {
          "output_type": "stream",
          "name": "stdout",
          "text": [
            " Not a Paraphrase\n"
          ]
        }
      ]
    },
    {
      "cell_type": "code",
      "source": [
        "# Load your tuned model and TF-IDF vectorizer\n",
        "import joblib\n",
        "import numpy as np\n",
        "\n",
        "best_model = joblib.load(\"/content/model.pkl\")  # <--- Save and load the grid search best model\n",
        "vectorizer = joblib.load(\"/content/tfidf_vectorizer.pkl\")\n",
        "\n",
        "# Input sentences\n",
        "sentence1 = \"All five events started the last day and concluded with the final on the first day .\"\n",
        "sentence2 = \"All five events started on the last day and concluded with the final on the first day .\"\n",
        "\n",
        "# Preprocess if needed (e.g., lowercase)\n",
        "def preprocess(text):\n",
        "    return text.lower()\n",
        "\n",
        "# Preprocess sentences\n",
        "s1 = preprocess(sentence1)\n",
        "s2 = preprocess(sentence2)\n",
        "\n",
        "# Transform using the loaded TF-IDF vectorizer\n",
        "v1 = vectorizer.transform([s1])\n",
        "v2 = vectorizer.transform([s2])\n",
        "\n",
        "# Combine vectors (concatenate horizontally)\n",
        "X_test_pair = np.hstack((v1.toarray(), v2.toarray()))\n",
        "\n",
        "# Predict using the tuned model\n",
        "prediction = best_model.predict(X_test_pair)[0]\n",
        "\n",
        "# Output\n",
        "if prediction == 1:\n",
        "    print(\"Paraphrase Detected\")\n",
        "else:\n",
        "    print(\"Not a Paraphrase\")\n"
      ],
      "metadata": {
        "colab": {
          "base_uri": "https://localhost:8080/"
        },
        "id": "DQ6yJt3Zjdvt",
        "outputId": "8c45493a-b265-45f4-cd7c-d7916f94d83c"
      },
      "execution_count": null,
      "outputs": [
        {
          "output_type": "stream",
          "name": "stdout",
          "text": [
            "Not a Paraphrase\n"
          ]
        }
      ]
    },
    {
      "cell_type": "code",
      "source": [
        " # Load your trained model and vectorizer\n",
        "import joblib\n",
        "model = joblib.load(\"/content/model.pkl\")\n",
        "vectorizer = joblib.load(\"/content/tfidf_vectorizer.pkl\")\n",
        "\n",
        "sentence1 = \"Kala is sleeping in the class\"\n",
        "sentence2 = \"Rabit is eating snacks.\"\n",
        "\n",
        "# Preprocess if needed (e.g., lowercase, remove punctuation, etc.)\n",
        "def preprocess(text):\n",
        "    return text.lower()\n",
        "\n",
        "s1 = preprocess(sentence1)\n",
        "s2 = preprocess(sentence2)\n",
        "\n",
        "# Transform using the fitted TF-IDF vectorizer\n",
        "v1 = vectorizer.transform([s1])\n",
        "v2 = vectorizer.transform([s2])\n",
        "\n",
        "# Combine vectors (e.g., concatenate)\n",
        "X_test_pair = np.hstack((v1.toarray(), v2.toarray()))\n",
        "\n",
        "# Predict\n",
        "prediction = model.predict(X_test_pair)[0]\n",
        "\n",
        "if prediction == 1:\n",
        "    print(\" Paraphrase Detected\")\n",
        "else:\n",
        "    print(\" Not a Paraphrase\")\n"
      ],
      "metadata": {
        "id": "1_9EfXzMqD6Q",
        "colab": {
          "base_uri": "https://localhost:8080/"
        },
        "outputId": "2b437824-67c6-47c6-acd5-4f1deeb1c0fd"
      },
      "execution_count": null,
      "outputs": [
        {
          "output_type": "stream",
          "name": "stdout",
          "text": [
            " Not a Paraphrase\n"
          ]
        }
      ]
    },
    {
      "cell_type": "code",
      "source": [
        " # Load your trained model and vectorizer\n",
        "import joblib\n",
        "model = joblib.load(\"/content/model.pkl\")\n",
        "vectorizer = joblib.load(\"/content/tfidf_vectorizer.pkl\")\n",
        "\n",
        "sentence1 = \"It is situated south of Köroğlu Mountains and to the north of Bolu .\"\n",
        "sentence2 = \"It is situated south of Köroğlu - mountains and north of the Bolu .\"\n",
        "\n",
        "# Preprocess if needed (e.g., lowercase, remove punctuation, etc.)\n",
        "def preprocess(text):\n",
        "    return text.lower()\n",
        "\n",
        "s1 = preprocess(sentence1)\n",
        "s2 = preprocess(sentence2)\n",
        "\n",
        "# Transform using the fitted TF-IDF vectorizer\n",
        "v1 = vectorizer.transform([s1])\n",
        "v2 = vectorizer.transform([s2])\n",
        "\n",
        "# Combine vectors (e.g., concatenate)\n",
        "X_test_pair = np.hstack((v1.toarray(), v2.toarray()))\n",
        "\n",
        "# Predict\n",
        "prediction = model.predict(X_test_pair)[0]\n",
        "\n",
        "if prediction == 1:\n",
        "    print(\" Paraphrase Detected\")\n",
        "else:\n",
        "    print(\" Not a Paraphrase\")\n"
      ],
      "metadata": {
        "colab": {
          "base_uri": "https://localhost:8080/"
        },
        "id": "fWZrDqoCaffj",
        "outputId": "941e99ad-503b-48fd-c0a6-673efe96c61a"
      },
      "execution_count": null,
      "outputs": [
        {
          "output_type": "stream",
          "name": "stdout",
          "text": [
            " Not a Paraphrase\n"
          ]
        }
      ]
    },
    {
      "cell_type": "code",
      "source": [],
      "metadata": {
        "id": "Lqe3g44_a1oX"
      },
      "execution_count": null,
      "outputs": []
    }
  ]
}